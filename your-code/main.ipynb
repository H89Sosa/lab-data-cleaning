{
 "cells": [
  {
   "cell_type": "markdown",
   "metadata": {},
   "source": [
    "#### 1. Import pandas library"
   ]
  },
  {
   "cell_type": "code",
   "execution_count": 1,
   "metadata": {
    "ExecuteTime": {
     "end_time": "2020-02-01T16:08:00.355226Z",
     "start_time": "2020-02-01T16:07:59.845474Z"
    }
   },
   "outputs": [],
   "source": [
    "import pandas as pd\n",
    "import numpy as np"
   ]
  },
  {
   "cell_type": "markdown",
   "metadata": {},
   "source": [
    "#### 2. Import BigQuery library\n"
   ]
  },
  {
   "cell_type": "code",
   "execution_count": 2,
   "metadata": {
    "ExecuteTime": {
     "end_time": "2020-02-01T16:08:00.715929Z",
     "start_time": "2020-02-01T16:08:00.356909Z"
    }
   },
   "outputs": [],
   "source": [
    "from google.cloud import bigquery"
   ]
  },
  {
   "cell_type": "markdown",
   "metadata": {},
   "source": [
    "#### 3. Create a connection to BigQuery"
   ]
  },
  {
   "cell_type": "code",
   "execution_count": 3,
   "metadata": {
    "ExecuteTime": {
     "end_time": "2020-02-01T16:08:00.722048Z",
     "start_time": "2020-02-01T16:08:00.718150Z"
    }
   },
   "outputs": [],
   "source": [
    "import os\n",
    "\n",
    "os.environ[\"GOOGLE_APPLICATION_CREDENTIALS\"]=\"/Users/Sosa/Downloads/ironhack_service_account_big_query.json\"\n",
    "client = bigquery.Client()"
   ]
  },
  {
   "cell_type": "markdown",
   "metadata": {},
   "source": [
    "#### 4. Import data from the users table from the stackoverflow public database for United Kingdom only"
   ]
  },
  {
   "cell_type": "code",
   "execution_count": 4,
   "metadata": {
    "ExecuteTime": {
     "end_time": "2020-02-01T16:08:14.813059Z",
     "start_time": "2020-02-01T16:08:00.723989Z"
    }
   },
   "outputs": [],
   "source": [
    "sql = '''\n",
    "SELECT \n",
    "    *\n",
    "FROM \n",
    "    `bigquery-public-data.stackoverflow.users`\n",
    "WHERE\n",
    "    location LIKE '%United Kingdom%'\n",
    "\n",
    "'''\n",
    "\n",
    "job_query = client.query(query= sql)\n",
    "\n",
    "df = job_query.to_dataframe()"
   ]
  },
  {
   "cell_type": "code",
   "execution_count": 5,
   "metadata": {
    "ExecuteTime": {
     "end_time": "2020-02-01T16:08:14.823890Z",
     "start_time": "2020-02-01T16:08:14.814690Z"
    }
   },
   "outputs": [
    {
     "data": {
      "text/plain": [
       "(66832, 13)"
      ]
     },
     "execution_count": 5,
     "metadata": {},
     "output_type": "execute_result"
    }
   ],
   "source": [
    "df.shape"
   ]
  },
  {
   "cell_type": "code",
   "execution_count": 6,
   "metadata": {
    "ExecuteTime": {
     "end_time": "2020-02-01T16:08:14.914578Z",
     "start_time": "2020-02-01T16:08:14.825818Z"
    }
   },
   "outputs": [
    {
     "name": "stdout",
     "output_type": "stream",
     "text": [
      "<class 'pandas.core.frame.DataFrame'>\n",
      "RangeIndex: 66832 entries, 0 to 66831\n",
      "Data columns (total 13 columns):\n",
      "id                   66832 non-null int64\n",
      "display_name         66832 non-null object\n",
      "about_me             24957 non-null object\n",
      "age                  0 non-null object\n",
      "creation_date        66832 non-null datetime64[ns, UTC]\n",
      "last_access_date     66832 non-null datetime64[ns, UTC]\n",
      "location             66832 non-null object\n",
      "reputation           66832 non-null int64\n",
      "up_votes             66832 non-null int64\n",
      "down_votes           66832 non-null int64\n",
      "views                66832 non-null int64\n",
      "profile_image_url    44707 non-null object\n",
      "website_url          20877 non-null object\n",
      "dtypes: datetime64[ns, UTC](2), int64(5), object(6)\n",
      "memory usage: 6.6+ MB\n"
     ]
    }
   ],
   "source": [
    "df.info()"
   ]
  },
  {
   "cell_type": "markdown",
   "metadata": {},
   "source": [
    "#### 5. Rename id column to user_id"
   ]
  },
  {
   "cell_type": "code",
   "execution_count": 7,
   "metadata": {
    "ExecuteTime": {
     "end_time": "2020-02-01T16:08:14.974360Z",
     "start_time": "2020-02-01T16:08:14.916490Z"
    },
    "scrolled": true
   },
   "outputs": [
    {
     "data": {
      "text/plain": [
       "Index(['user_id', 'display_name', 'about_me', 'age', 'creation_date',\n",
       "       'last_access_date', 'location', 'reputation', 'up_votes', 'down_votes',\n",
       "       'views', 'profile_image_url', 'website_url'],\n",
       "      dtype='object')"
      ]
     },
     "execution_count": 7,
     "metadata": {},
     "output_type": "execute_result"
    }
   ],
   "source": [
    "df = df.rename(columns = {'id': 'user_id'})\n",
    "\n",
    "df.columns"
   ]
  },
  {
   "cell_type": "markdown",
   "metadata": {},
   "source": [
    "#### 6. Import from the stackoverflow_posts table all items which have up to 20 view counts and only select 'id', 'owner_user_id', 'score', 'view_count', 'comment_count', 'favorite_count'"
   ]
  },
  {
   "cell_type": "code",
   "execution_count": 8,
   "metadata": {
    "ExecuteTime": {
     "end_time": "2020-02-01T16:08:15.661394Z",
     "start_time": "2020-02-01T16:08:14.977889Z"
    }
   },
   "outputs": [],
   "source": [
    "qry= '''\n",
    "SELECT\n",
    "    id,\n",
    "    owner_user_id,\n",
    "    score,\n",
    "    view_count,\n",
    "    comment_count,\n",
    "    favorite_count,\n",
    "\n",
    "FROM\n",
    "    `bigquery-public-data.stackoverflow.stackoverflow_posts` \n",
    "\n",
    "WHERE\n",
    "    view_count <= 20\n",
    "'''\n",
    "\n",
    "query_job = client.query(query= qry)"
   ]
  },
  {
   "cell_type": "code",
   "execution_count": 9,
   "metadata": {
    "ExecuteTime": {
     "end_time": "2020-02-01T16:08:35.289862Z",
     "start_time": "2020-02-01T16:08:15.664448Z"
    }
   },
   "outputs": [],
   "source": [
    "df2 = query_job.to_dataframe()"
   ]
  },
  {
   "cell_type": "code",
   "execution_count": 10,
   "metadata": {
    "ExecuteTime": {
     "end_time": "2020-02-01T16:08:35.301347Z",
     "start_time": "2020-02-01T16:08:35.291382Z"
    }
   },
   "outputs": [
    {
     "data": {
      "text/html": [
       "<div>\n",
       "<style scoped>\n",
       "    .dataframe tbody tr th:only-of-type {\n",
       "        vertical-align: middle;\n",
       "    }\n",
       "\n",
       "    .dataframe tbody tr th {\n",
       "        vertical-align: top;\n",
       "    }\n",
       "\n",
       "    .dataframe thead th {\n",
       "        text-align: right;\n",
       "    }\n",
       "</style>\n",
       "<table border=\"1\" class=\"dataframe\">\n",
       "  <thead>\n",
       "    <tr style=\"text-align: right;\">\n",
       "      <th></th>\n",
       "      <th>id</th>\n",
       "      <th>owner_user_id</th>\n",
       "      <th>score</th>\n",
       "      <th>view_count</th>\n",
       "      <th>comment_count</th>\n",
       "      <th>favorite_count</th>\n",
       "    </tr>\n",
       "  </thead>\n",
       "  <tbody>\n",
       "    <tr>\n",
       "      <td>0</td>\n",
       "      <td>23154134</td>\n",
       "      <td>NaN</td>\n",
       "      <td>1</td>\n",
       "      <td>20</td>\n",
       "      <td>0</td>\n",
       "      <td>NaN</td>\n",
       "    </tr>\n",
       "    <tr>\n",
       "      <td>1</td>\n",
       "      <td>37516574</td>\n",
       "      <td>NaN</td>\n",
       "      <td>0</td>\n",
       "      <td>7</td>\n",
       "      <td>0</td>\n",
       "      <td>NaN</td>\n",
       "    </tr>\n",
       "    <tr>\n",
       "      <td>2</td>\n",
       "      <td>37319831</td>\n",
       "      <td>NaN</td>\n",
       "      <td>1</td>\n",
       "      <td>18</td>\n",
       "      <td>0</td>\n",
       "      <td>NaN</td>\n",
       "    </tr>\n",
       "    <tr>\n",
       "      <td>3</td>\n",
       "      <td>31140287</td>\n",
       "      <td>NaN</td>\n",
       "      <td>1</td>\n",
       "      <td>16</td>\n",
       "      <td>3</td>\n",
       "      <td>NaN</td>\n",
       "    </tr>\n",
       "    <tr>\n",
       "      <td>4</td>\n",
       "      <td>36546336</td>\n",
       "      <td>NaN</td>\n",
       "      <td>0</td>\n",
       "      <td>8</td>\n",
       "      <td>0</td>\n",
       "      <td>NaN</td>\n",
       "    </tr>\n",
       "  </tbody>\n",
       "</table>\n",
       "</div>"
      ],
      "text/plain": [
       "         id  owner_user_id  score  view_count  comment_count  favorite_count\n",
       "0  23154134            NaN      1          20              0             NaN\n",
       "1  37516574            NaN      0           7              0             NaN\n",
       "2  37319831            NaN      1          18              0             NaN\n",
       "3  31140287            NaN      1          16              3             NaN\n",
       "4  36546336            NaN      0           8              0             NaN"
      ]
     },
     "execution_count": 10,
     "metadata": {},
     "output_type": "execute_result"
    }
   ],
   "source": [
    "df2.head()"
   ]
  },
  {
   "cell_type": "markdown",
   "metadata": {},
   "source": [
    "#### 7. Rename id column to post_id and owner_user_id to user_id"
   ]
  },
  {
   "cell_type": "code",
   "execution_count": 11,
   "metadata": {
    "ExecuteTime": {
     "end_time": "2020-02-01T16:08:35.339061Z",
     "start_time": "2020-02-01T16:08:35.303014Z"
    }
   },
   "outputs": [
    {
     "data": {
      "text/html": [
       "<div>\n",
       "<style scoped>\n",
       "    .dataframe tbody tr th:only-of-type {\n",
       "        vertical-align: middle;\n",
       "    }\n",
       "\n",
       "    .dataframe tbody tr th {\n",
       "        vertical-align: top;\n",
       "    }\n",
       "\n",
       "    .dataframe thead th {\n",
       "        text-align: right;\n",
       "    }\n",
       "</style>\n",
       "<table border=\"1\" class=\"dataframe\">\n",
       "  <thead>\n",
       "    <tr style=\"text-align: right;\">\n",
       "      <th></th>\n",
       "      <th>post_id</th>\n",
       "      <th>user_id</th>\n",
       "      <th>score</th>\n",
       "      <th>view_count</th>\n",
       "      <th>comment_count</th>\n",
       "      <th>favorite_count</th>\n",
       "    </tr>\n",
       "  </thead>\n",
       "  <tbody>\n",
       "    <tr>\n",
       "      <td>0</td>\n",
       "      <td>23154134</td>\n",
       "      <td>NaN</td>\n",
       "      <td>1</td>\n",
       "      <td>20</td>\n",
       "      <td>0</td>\n",
       "      <td>NaN</td>\n",
       "    </tr>\n",
       "    <tr>\n",
       "      <td>1</td>\n",
       "      <td>37516574</td>\n",
       "      <td>NaN</td>\n",
       "      <td>0</td>\n",
       "      <td>7</td>\n",
       "      <td>0</td>\n",
       "      <td>NaN</td>\n",
       "    </tr>\n",
       "    <tr>\n",
       "      <td>2</td>\n",
       "      <td>37319831</td>\n",
       "      <td>NaN</td>\n",
       "      <td>1</td>\n",
       "      <td>18</td>\n",
       "      <td>0</td>\n",
       "      <td>NaN</td>\n",
       "    </tr>\n",
       "    <tr>\n",
       "      <td>3</td>\n",
       "      <td>31140287</td>\n",
       "      <td>NaN</td>\n",
       "      <td>1</td>\n",
       "      <td>16</td>\n",
       "      <td>3</td>\n",
       "      <td>NaN</td>\n",
       "    </tr>\n",
       "    <tr>\n",
       "      <td>4</td>\n",
       "      <td>36546336</td>\n",
       "      <td>NaN</td>\n",
       "      <td>0</td>\n",
       "      <td>8</td>\n",
       "      <td>0</td>\n",
       "      <td>NaN</td>\n",
       "    </tr>\n",
       "  </tbody>\n",
       "</table>\n",
       "</div>"
      ],
      "text/plain": [
       "    post_id  user_id  score  view_count  comment_count  favorite_count\n",
       "0  23154134      NaN      1          20              0             NaN\n",
       "1  37516574      NaN      0           7              0             NaN\n",
       "2  37319831      NaN      1          18              0             NaN\n",
       "3  31140287      NaN      1          16              3             NaN\n",
       "4  36546336      NaN      0           8              0             NaN"
      ]
     },
     "execution_count": 11,
     "metadata": {},
     "output_type": "execute_result"
    }
   ],
   "source": [
    "df2 = df2.rename(columns= {'id': 'post_id', 'owner_user_id': 'user_id'})\n",
    "\n",
    "df2.head()"
   ]
  },
  {
   "cell_type": "markdown",
   "metadata": {},
   "source": [
    "#### 8. Define new dataframes for users and posts with the following selected columns:\n",
    "    **users columns**: user_id, reputation,views,up_votes,down_votes\n",
    "    **posts columns**: post_id, score,user_id,view_count,comment_count"
   ]
  },
  {
   "cell_type": "code",
   "execution_count": 62,
   "metadata": {
    "ExecuteTime": {
     "end_time": "2020-02-01T16:23:39.302088Z",
     "start_time": "2020-02-01T16:23:39.291098Z"
    }
   },
   "outputs": [],
   "source": [
    "user_columns = df[['user_id', 'reputation', 'views', 'up_votes','down_votes']]\n",
    "posts_columns = df2[['post_id', 'score', 'user_id', 'view_count', 'comment_count']]"
   ]
  },
  {
   "cell_type": "markdown",
   "metadata": {},
   "source": [
    "#### 8. Merge both dataframes, users and posts. \n",
    "You will need to make a [merge](https://pandas.pydata.org/pandas-docs/stable/generated/pandas.DataFrame.merge.html) of posts and users dataframes."
   ]
  },
  {
   "cell_type": "code",
   "execution_count": 70,
   "metadata": {
    "ExecuteTime": {
     "end_time": "2020-02-01T16:25:01.180144Z",
     "start_time": "2020-02-01T16:25:01.036448Z"
    }
   },
   "outputs": [
    {
     "data": {
      "text/html": [
       "<div>\n",
       "<style scoped>\n",
       "    .dataframe tbody tr th:only-of-type {\n",
       "        vertical-align: middle;\n",
       "    }\n",
       "\n",
       "    .dataframe tbody tr th {\n",
       "        vertical-align: top;\n",
       "    }\n",
       "\n",
       "    .dataframe thead th {\n",
       "        text-align: right;\n",
       "    }\n",
       "</style>\n",
       "<table border=\"1\" class=\"dataframe\">\n",
       "  <thead>\n",
       "    <tr style=\"text-align: right;\">\n",
       "      <th></th>\n",
       "      <th>user_id</th>\n",
       "      <th>reputation</th>\n",
       "      <th>views</th>\n",
       "      <th>up_votes</th>\n",
       "      <th>down_votes</th>\n",
       "      <th>post_id</th>\n",
       "      <th>score</th>\n",
       "      <th>view_count</th>\n",
       "      <th>comment_count</th>\n",
       "    </tr>\n",
       "  </thead>\n",
       "  <tbody>\n",
       "    <tr>\n",
       "      <td>0</td>\n",
       "      <td>115237</td>\n",
       "      <td>5580</td>\n",
       "      <td>381</td>\n",
       "      <td>641</td>\n",
       "      <td>15</td>\n",
       "      <td>23933814</td>\n",
       "      <td>0</td>\n",
       "      <td>20</td>\n",
       "      <td>1</td>\n",
       "    </tr>\n",
       "    <tr>\n",
       "      <td>1</td>\n",
       "      <td>131809</td>\n",
       "      <td>30144</td>\n",
       "      <td>1923</td>\n",
       "      <td>1264</td>\n",
       "      <td>2098</td>\n",
       "      <td>37342151</td>\n",
       "      <td>0</td>\n",
       "      <td>16</td>\n",
       "      <td>8</td>\n",
       "    </tr>\n",
       "    <tr>\n",
       "      <td>2</td>\n",
       "      <td>253056</td>\n",
       "      <td>183790</td>\n",
       "      <td>23287</td>\n",
       "      <td>14348</td>\n",
       "      <td>17059</td>\n",
       "      <td>36934736</td>\n",
       "      <td>2</td>\n",
       "      <td>20</td>\n",
       "      <td>0</td>\n",
       "    </tr>\n",
       "    <tr>\n",
       "      <td>3</td>\n",
       "      <td>1165020</td>\n",
       "      <td>1018</td>\n",
       "      <td>256</td>\n",
       "      <td>680</td>\n",
       "      <td>10</td>\n",
       "      <td>34854096</td>\n",
       "      <td>0</td>\n",
       "      <td>20</td>\n",
       "      <td>0</td>\n",
       "    </tr>\n",
       "    <tr>\n",
       "      <td>4</td>\n",
       "      <td>1499072</td>\n",
       "      <td>2073</td>\n",
       "      <td>340</td>\n",
       "      <td>1964</td>\n",
       "      <td>13</td>\n",
       "      <td>34118493</td>\n",
       "      <td>0</td>\n",
       "      <td>13</td>\n",
       "      <td>0</td>\n",
       "    </tr>\n",
       "  </tbody>\n",
       "</table>\n",
       "</div>"
      ],
      "text/plain": [
       "   user_id  reputation  views  up_votes  down_votes   post_id  score  \\\n",
       "0   115237        5580    381       641          15  23933814      0   \n",
       "1   131809       30144   1923      1264        2098  37342151      0   \n",
       "2   253056      183790  23287     14348       17059  36934736      2   \n",
       "3  1165020        1018    256       680          10  34854096      0   \n",
       "4  1499072        2073    340      1964          13  34118493      0   \n",
       "\n",
       "   view_count  comment_count  \n",
       "0          20              1  \n",
       "1          16              8  \n",
       "2          20              0  \n",
       "3          20              0  \n",
       "4          13              0  "
      ]
     },
     "execution_count": 70,
     "metadata": {},
     "output_type": "execute_result"
    }
   ],
   "source": [
    "user_posts = pd.merge(user_columns, posts_columns).astype(int)\n",
    "\n",
    "user_posts.head()"
   ]
  },
  {
   "cell_type": "markdown",
   "metadata": {},
   "source": [
    "#### 9. How many missing values do you have in your merged dataframe? "
   ]
  },
  {
   "cell_type": "code",
   "execution_count": 71,
   "metadata": {
    "ExecuteTime": {
     "end_time": "2020-02-01T16:25:02.536973Z",
     "start_time": "2020-02-01T16:25:02.531058Z"
    }
   },
   "outputs": [
    {
     "data": {
      "text/plain": [
       "user_id          0\n",
       "reputation       0\n",
       "views            0\n",
       "up_votes         0\n",
       "down_votes       0\n",
       "post_id          0\n",
       "score            0\n",
       "view_count       0\n",
       "comment_count    0\n",
       "dtype: int64"
      ]
     },
     "execution_count": 71,
     "metadata": {},
     "output_type": "execute_result"
    }
   ],
   "source": [
    "user_posts.isna().sum()"
   ]
  },
  {
   "cell_type": "markdown",
   "metadata": {},
   "source": [
    "#### Bonus: Identify extreme values in your merged dataframe, create a dataframe called outliers with the same columns as our data set and calculate the bounds. The values of the outliers dataframe will be the values of the merged_df that fall outside that bounds. You will need to save your outliers dataframe to a csv file on your-code folder. Hint: post_id cannot have outliers!"
   ]
  },
  {
   "cell_type": "code",
   "execution_count": 72,
   "metadata": {
    "ExecuteTime": {
     "end_time": "2020-02-01T16:25:10.705589Z",
     "start_time": "2020-02-01T16:25:10.701478Z"
    }
   },
   "outputs": [],
   "source": [
    "user_posts = user_posts.drop('post_id', axis=1)"
   ]
  },
  {
   "cell_type": "code",
   "execution_count": 73,
   "metadata": {
    "ExecuteTime": {
     "end_time": "2020-02-01T16:25:12.004652Z",
     "start_time": "2020-02-01T16:25:11.972995Z"
    }
   },
   "outputs": [
    {
     "data": {
      "text/html": [
       "<div>\n",
       "<style scoped>\n",
       "    .dataframe tbody tr th:only-of-type {\n",
       "        vertical-align: middle;\n",
       "    }\n",
       "\n",
       "    .dataframe tbody tr th {\n",
       "        vertical-align: top;\n",
       "    }\n",
       "\n",
       "    .dataframe thead th {\n",
       "        text-align: right;\n",
       "    }\n",
       "</style>\n",
       "<table border=\"1\" class=\"dataframe\">\n",
       "  <thead>\n",
       "    <tr style=\"text-align: right;\">\n",
       "      <th></th>\n",
       "      <th>count</th>\n",
       "      <th>mean</th>\n",
       "      <th>std</th>\n",
       "      <th>min</th>\n",
       "      <th>25%</th>\n",
       "      <th>50%</th>\n",
       "      <th>75%</th>\n",
       "      <th>max</th>\n",
       "      <th>IQR</th>\n",
       "    </tr>\n",
       "  </thead>\n",
       "  <tbody>\n",
       "    <tr>\n",
       "      <td>user_id</td>\n",
       "      <td>4702.0</td>\n",
       "      <td>2.290522e+06</td>\n",
       "      <td>1.903187e+06</td>\n",
       "      <td>199.0</td>\n",
       "      <td>630530.0</td>\n",
       "      <td>1723133.0</td>\n",
       "      <td>3632206.00</td>\n",
       "      <td>6452203.0</td>\n",
       "      <td>3001676.00</td>\n",
       "    </tr>\n",
       "    <tr>\n",
       "      <td>reputation</td>\n",
       "      <td>4702.0</td>\n",
       "      <td>5.457066e+03</td>\n",
       "      <td>1.678706e+04</td>\n",
       "      <td>1.0</td>\n",
       "      <td>231.0</td>\n",
       "      <td>1140.5</td>\n",
       "      <td>4311.00</td>\n",
       "      <td>279695.0</td>\n",
       "      <td>4080.00</td>\n",
       "    </tr>\n",
       "    <tr>\n",
       "      <td>views</td>\n",
       "      <td>4702.0</td>\n",
       "      <td>4.960581e+02</td>\n",
       "      <td>1.258679e+03</td>\n",
       "      <td>0.0</td>\n",
       "      <td>38.0</td>\n",
       "      <td>138.0</td>\n",
       "      <td>419.00</td>\n",
       "      <td>27257.0</td>\n",
       "      <td>381.00</td>\n",
       "    </tr>\n",
       "    <tr>\n",
       "      <td>up_votes</td>\n",
       "      <td>4702.0</td>\n",
       "      <td>3.691672e+02</td>\n",
       "      <td>7.725259e+02</td>\n",
       "      <td>0.0</td>\n",
       "      <td>15.0</td>\n",
       "      <td>90.0</td>\n",
       "      <td>354.75</td>\n",
       "      <td>14348.0</td>\n",
       "      <td>339.75</td>\n",
       "    </tr>\n",
       "    <tr>\n",
       "      <td>down_votes</td>\n",
       "      <td>4702.0</td>\n",
       "      <td>4.030689e+01</td>\n",
       "      <td>3.215170e+02</td>\n",
       "      <td>0.0</td>\n",
       "      <td>0.0</td>\n",
       "      <td>3.0</td>\n",
       "      <td>16.00</td>\n",
       "      <td>17059.0</td>\n",
       "      <td>16.00</td>\n",
       "    </tr>\n",
       "    <tr>\n",
       "      <td>score</td>\n",
       "      <td>4702.0</td>\n",
       "      <td>1.156954e-01</td>\n",
       "      <td>5.435827e-01</td>\n",
       "      <td>-7.0</td>\n",
       "      <td>0.0</td>\n",
       "      <td>0.0</td>\n",
       "      <td>0.00</td>\n",
       "      <td>4.0</td>\n",
       "      <td>0.00</td>\n",
       "    </tr>\n",
       "    <tr>\n",
       "      <td>view_count</td>\n",
       "      <td>4702.0</td>\n",
       "      <td>1.538835e+01</td>\n",
       "      <td>3.797492e+00</td>\n",
       "      <td>2.0</td>\n",
       "      <td>13.0</td>\n",
       "      <td>16.0</td>\n",
       "      <td>19.00</td>\n",
       "      <td>20.0</td>\n",
       "      <td>6.00</td>\n",
       "    </tr>\n",
       "    <tr>\n",
       "      <td>comment_count</td>\n",
       "      <td>4702.0</td>\n",
       "      <td>8.966397e-01</td>\n",
       "      <td>1.593820e+00</td>\n",
       "      <td>0.0</td>\n",
       "      <td>0.0</td>\n",
       "      <td>0.0</td>\n",
       "      <td>1.00</td>\n",
       "      <td>15.0</td>\n",
       "      <td>1.00</td>\n",
       "    </tr>\n",
       "  </tbody>\n",
       "</table>\n",
       "</div>"
      ],
      "text/plain": [
       "                count          mean           std    min       25%        50%  \\\n",
       "user_id        4702.0  2.290522e+06  1.903187e+06  199.0  630530.0  1723133.0   \n",
       "reputation     4702.0  5.457066e+03  1.678706e+04    1.0     231.0     1140.5   \n",
       "views          4702.0  4.960581e+02  1.258679e+03    0.0      38.0      138.0   \n",
       "up_votes       4702.0  3.691672e+02  7.725259e+02    0.0      15.0       90.0   \n",
       "down_votes     4702.0  4.030689e+01  3.215170e+02    0.0       0.0        3.0   \n",
       "score          4702.0  1.156954e-01  5.435827e-01   -7.0       0.0        0.0   \n",
       "view_count     4702.0  1.538835e+01  3.797492e+00    2.0      13.0       16.0   \n",
       "comment_count  4702.0  8.966397e-01  1.593820e+00    0.0       0.0        0.0   \n",
       "\n",
       "                      75%        max         IQR  \n",
       "user_id        3632206.00  6452203.0  3001676.00  \n",
       "reputation        4311.00   279695.0     4080.00  \n",
       "views              419.00    27257.0      381.00  \n",
       "up_votes           354.75    14348.0      339.75  \n",
       "down_votes          16.00    17059.0       16.00  \n",
       "score                0.00        4.0        0.00  \n",
       "view_count          19.00       20.0        6.00  \n",
       "comment_count        1.00       15.0        1.00  "
      ]
     },
     "execution_count": 73,
     "metadata": {},
     "output_type": "execute_result"
    }
   ],
   "source": [
    "stats = user_posts.describe().transpose()\n",
    "stats['IQR'] = stats['75%'] - stats['25%']\n",
    "stats\n",
    "#user_posts.head()"
   ]
  },
  {
   "cell_type": "code",
   "execution_count": 74,
   "metadata": {
    "ExecuteTime": {
     "end_time": "2020-02-01T16:25:21.825806Z",
     "start_time": "2020-02-01T16:25:21.814202Z"
    }
   },
   "outputs": [],
   "source": [
    "\n",
    "\n",
    "\n",
    "low_variance = []\n",
    "\n",
    "for col in user_posts._get_numeric_data():\n",
    "    minimum = min(user_posts[col])\n",
    "    ninety_per = np.percentile(user_posts[col], 90)\n",
    "    if ninety_per == minimum:\n",
    "        low_variance.append(col)\n",
    "user_posts = user_posts.drop(low_variance, axis=1)\n"
   ]
  },
  {
   "cell_type": "code",
   "execution_count": null,
   "metadata": {
    "ExecuteTime": {
     "end_time": "2020-02-01T16:20:16.157492Z",
     "start_time": "2020-02-01T16:20:16.154700Z"
    }
   },
   "outputs": [],
   "source": []
  },
  {
   "cell_type": "code",
   "execution_count": 76,
   "metadata": {
    "ExecuteTime": {
     "end_time": "2020-02-01T16:26:44.974108Z",
     "start_time": "2020-02-01T16:26:44.922404Z"
    }
   },
   "outputs": [
    {
     "name": "stderr",
     "output_type": "stream",
     "text": [
      "/opt/anaconda3/lib/python3.7/site-packages/pandas/core/frame.py:7123: FutureWarning: Sorting because non-concatenation axis is not aligned. A future version\n",
      "of pandas will change to not sort by default.\n",
      "\n",
      "To accept the future behavior, pass 'sort=False'.\n",
      "\n",
      "To retain the current behavior and silence the warning, pass 'sort=True'.\n",
      "\n",
      "  sort=sort,\n"
     ]
    },
    {
     "data": {
      "text/html": [
       "<div>\n",
       "<style scoped>\n",
       "    .dataframe tbody tr th:only-of-type {\n",
       "        vertical-align: middle;\n",
       "    }\n",
       "\n",
       "    .dataframe tbody tr th {\n",
       "        vertical-align: top;\n",
       "    }\n",
       "\n",
       "    .dataframe thead th {\n",
       "        text-align: right;\n",
       "    }\n",
       "</style>\n",
       "<table border=\"1\" class=\"dataframe\">\n",
       "  <thead>\n",
       "    <tr style=\"text-align: right;\">\n",
       "      <th></th>\n",
       "      <th>Outlier</th>\n",
       "      <th>comment_count</th>\n",
       "      <th>down_votes</th>\n",
       "      <th>reputation</th>\n",
       "      <th>score</th>\n",
       "      <th>up_votes</th>\n",
       "      <th>user_id</th>\n",
       "      <th>view_count</th>\n",
       "      <th>views</th>\n",
       "    </tr>\n",
       "  </thead>\n",
       "  <tbody>\n",
       "    <tr>\n",
       "      <td>1</td>\n",
       "      <td>reputation</td>\n",
       "      <td>8</td>\n",
       "      <td>2098</td>\n",
       "      <td>30144</td>\n",
       "      <td>0</td>\n",
       "      <td>1264</td>\n",
       "      <td>131809</td>\n",
       "      <td>16</td>\n",
       "      <td>1923</td>\n",
       "    </tr>\n",
       "    <tr>\n",
       "      <td>2</td>\n",
       "      <td>reputation</td>\n",
       "      <td>0</td>\n",
       "      <td>17059</td>\n",
       "      <td>183790</td>\n",
       "      <td>2</td>\n",
       "      <td>14348</td>\n",
       "      <td>253056</td>\n",
       "      <td>20</td>\n",
       "      <td>23287</td>\n",
       "    </tr>\n",
       "    <tr>\n",
       "      <td>8</td>\n",
       "      <td>reputation</td>\n",
       "      <td>1</td>\n",
       "      <td>623</td>\n",
       "      <td>18981</td>\n",
       "      <td>0</td>\n",
       "      <td>787</td>\n",
       "      <td>1822164</td>\n",
       "      <td>20</td>\n",
       "      <td>2806</td>\n",
       "    </tr>\n",
       "    <tr>\n",
       "      <td>24</td>\n",
       "      <td>reputation</td>\n",
       "      <td>0</td>\n",
       "      <td>28</td>\n",
       "      <td>27410</td>\n",
       "      <td>0</td>\n",
       "      <td>727</td>\n",
       "      <td>911930</td>\n",
       "      <td>16</td>\n",
       "      <td>2700</td>\n",
       "    </tr>\n",
       "    <tr>\n",
       "      <td>25</td>\n",
       "      <td>reputation</td>\n",
       "      <td>2</td>\n",
       "      <td>28</td>\n",
       "      <td>27410</td>\n",
       "      <td>0</td>\n",
       "      <td>727</td>\n",
       "      <td>911930</td>\n",
       "      <td>20</td>\n",
       "      <td>2700</td>\n",
       "    </tr>\n",
       "  </tbody>\n",
       "</table>\n",
       "</div>"
      ],
      "text/plain": [
       "       Outlier comment_count down_votes reputation score up_votes  user_id  \\\n",
       "1   reputation             8       2098      30144     0     1264   131809   \n",
       "2   reputation             0      17059     183790     2    14348   253056   \n",
       "8   reputation             1        623      18981     0      787  1822164   \n",
       "24  reputation             0         28      27410     0      727   911930   \n",
       "25  reputation             2         28      27410     0      727   911930   \n",
       "\n",
       "   view_count  views  \n",
       "1          16   1923  \n",
       "2          20  23287  \n",
       "8          20   2806  \n",
       "24         16   2700  \n",
       "25         20   2700  "
      ]
     },
     "execution_count": 76,
     "metadata": {},
     "output_type": "execute_result"
    }
   ],
   "source": [
    "outliers = pd.DataFrame(columns=user_posts.columns)\n",
    "for col in stats.index:\n",
    "    iqr = stats.at[col,'IQR']\n",
    "    cutoff = iqr * 1.5\n",
    "    lower = stats.at[col,'25%'] - cutoff\n",
    "    upper = stats.at[col,'75%'] + cutoff\n",
    "    results = user_posts[(user_posts[col] < lower) |\n",
    "                   (user_posts[col] > upper)].copy()\n",
    "    results['Outlier'] = col\n",
    "    outliers = outliers.append(results)\n",
    "    \n",
    "outliers.head()"
   ]
  },
  {
   "cell_type": "code",
   "execution_count": 77,
   "metadata": {
    "ExecuteTime": {
     "end_time": "2020-02-01T16:27:11.523845Z",
     "start_time": "2020-02-01T16:27:11.504449Z"
    }
   },
   "outputs": [],
   "source": [
    "outliers.to_csv('outliers.csv')"
   ]
  }
 ],
 "metadata": {
  "kernelspec": {
   "display_name": "Python 3",
   "language": "python",
   "name": "python3"
  },
  "language_info": {
   "codemirror_mode": {
    "name": "ipython",
    "version": 3
   },
   "file_extension": ".py",
   "mimetype": "text/x-python",
   "name": "python",
   "nbconvert_exporter": "python",
   "pygments_lexer": "ipython3",
   "version": "3.7.4"
  },
  "toc": {
   "base_numbering": 1,
   "nav_menu": {},
   "number_sections": true,
   "sideBar": true,
   "skip_h1_title": false,
   "title_cell": "Table of Contents",
   "title_sidebar": "Contents",
   "toc_cell": false,
   "toc_position": {},
   "toc_section_display": true,
   "toc_window_display": false
  },
  "varInspector": {
   "cols": {
    "lenName": 16,
    "lenType": 16,
    "lenVar": 40
   },
   "kernels_config": {
    "python": {
     "delete_cmd_postfix": "",
     "delete_cmd_prefix": "del ",
     "library": "var_list.py",
     "varRefreshCmd": "print(var_dic_list())"
    },
    "r": {
     "delete_cmd_postfix": ") ",
     "delete_cmd_prefix": "rm(",
     "library": "var_list.r",
     "varRefreshCmd": "cat(var_dic_list()) "
    }
   },
   "types_to_exclude": [
    "module",
    "function",
    "builtin_function_or_method",
    "instance",
    "_Feature"
   ],
   "window_display": false
  }
 },
 "nbformat": 4,
 "nbformat_minor": 2
}
